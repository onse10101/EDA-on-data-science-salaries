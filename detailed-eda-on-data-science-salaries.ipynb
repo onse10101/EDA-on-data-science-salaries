{
 "cells": [
  {
   "attachments": {},
   "cell_type": "markdown",
   "id": "61254992",
   "metadata": {
    "papermill": {
     "duration": 0.017036,
     "end_time": "2023-04-25T23:15:46.856973",
     "exception": false,
     "start_time": "2023-04-25T23:15:46.839937",
     "status": "completed"
    },
    "tags": []
   },
   "source": []
  },
  {
   "cell_type": "markdown",
   "id": "d065b699",
   "metadata": {
    "papermill": {
     "duration": 0.015225,
     "end_time": "2023-04-25T23:15:46.888021",
     "exception": false,
     "start_time": "2023-04-25T23:15:46.872796",
     "status": "completed"
    },
    "tags": []
   },
   "source": [
    "**In this notebook we will explore the data science field  salaries in detail..**\n",
    "\n",
    "\n",
    " **We will see how experience level,location,year and attributes affect the salary...**\n",
    "\n",
    " **We will see how experience level,location,year and attributes affect no of jobs in this field...**\n",
    "\n",
    "**We will explore the data with different features and at last we will check the correlation**\n",
    "\n",
    "**Read it completely and if you find any mistake then feel free to guide me**"
   ]
  },
  {
   "cell_type": "markdown",
   "id": "28c93b1e",
   "metadata": {
    "papermill": {
     "duration": 0.016559,
     "end_time": "2023-04-25T23:15:46.920283",
     "exception": false,
     "start_time": "2023-04-25T23:15:46.903724",
     "status": "completed"
    },
    "tags": []
   },
   "source": [
    "# Importing Modules"
   ]
  },
  {
   "cell_type": "code",
   "execution_count": 1,
   "id": "b61f5c35",
   "metadata": {
    "_cell_guid": "b1076dfc-b9ad-4769-8c92-a6c4dae69d19",
    "_uuid": "8f2839f25d086af736a60e9eeb907d3b93b6e0e5",
    "execution": {
     "iopub.execute_input": "2023-04-25T23:15:46.954137Z",
     "iopub.status.busy": "2023-04-25T23:15:46.952701Z",
     "iopub.status.idle": "2023-04-25T23:15:48.231375Z",
     "shell.execute_reply": "2023-04-25T23:15:48.230212Z"
    },
    "papermill": {
     "duration": 1.298638,
     "end_time": "2023-04-25T23:15:48.234383",
     "exception": false,
     "start_time": "2023-04-25T23:15:46.935745",
     "status": "completed"
    },
    "tags": []
   },
   "outputs": [
    {
     "name": "stdout",
     "output_type": "stream",
     "text": [
      "/kaggle/input/data-science-salaries-2023/ds_salaries.csv\n"
     ]
    }
   ],
   "source": [
    "import numpy as np # linear algebra\n",
    "import pandas as pd # data processing, CSV file I/O (e.g. pd.read_csv)\n",
    "import seaborn as sns\n",
    "import matplotlib.pyplot as plt\n"
   ]
  },
  {
   "cell_type": "code",
   "execution_count": 2,
   "id": "808dd28c",
   "metadata": {
    "execution": {
     "iopub.execute_input": "2023-04-25T23:15:48.270782Z",
     "iopub.status.busy": "2023-04-25T23:15:48.269716Z",
     "iopub.status.idle": "2023-04-25T23:15:48.323749Z",
     "shell.execute_reply": "2023-04-25T23:15:48.322363Z"
    },
    "papermill": {
     "duration": 0.075446,
     "end_time": "2023-04-25T23:15:48.326658",
     "exception": false,
     "start_time": "2023-04-25T23:15:48.251212",
     "status": "completed"
    },
    "tags": []
   },
   "outputs": [
    {
     "data": {
      "text/html": [
       "<div>\n",
       "<style scoped>\n",
       "    .dataframe tbody tr th:only-of-type {\n",
       "        vertical-align: middle;\n",
       "    }\n",
       "\n",
       "    .dataframe tbody tr th {\n",
       "        vertical-align: top;\n",
       "    }\n",
       "\n",
       "    .dataframe thead th {\n",
       "        text-align: right;\n",
       "    }\n",
       "</style>\n",
       "<table border=\"1\" class=\"dataframe\">\n",
       "  <thead>\n",
       "    <tr style=\"text-align: right;\">\n",
       "      <th></th>\n",
       "      <th>work_year</th>\n",
       "      <th>experience_level</th>\n",
       "      <th>employment_type</th>\n",
       "      <th>job_title</th>\n",
       "      <th>salary</th>\n",
       "      <th>salary_currency</th>\n",
       "      <th>salary_in_usd</th>\n",
       "      <th>employee_residence</th>\n",
       "      <th>remote_ratio</th>\n",
       "      <th>company_location</th>\n",
       "      <th>company_size</th>\n",
       "    </tr>\n",
       "  </thead>\n",
       "  <tbody>\n",
       "    <tr>\n",
       "      <th>0</th>\n",
       "      <td>2023</td>\n",
       "      <td>SE</td>\n",
       "      <td>FT</td>\n",
       "      <td>Principal Data Scientist</td>\n",
       "      <td>80000</td>\n",
       "      <td>EUR</td>\n",
       "      <td>85847</td>\n",
       "      <td>ES</td>\n",
       "      <td>100</td>\n",
       "      <td>ES</td>\n",
       "      <td>L</td>\n",
       "    </tr>\n",
       "    <tr>\n",
       "      <th>1</th>\n",
       "      <td>2023</td>\n",
       "      <td>MI</td>\n",
       "      <td>CT</td>\n",
       "      <td>ML Engineer</td>\n",
       "      <td>30000</td>\n",
       "      <td>USD</td>\n",
       "      <td>30000</td>\n",
       "      <td>US</td>\n",
       "      <td>100</td>\n",
       "      <td>US</td>\n",
       "      <td>S</td>\n",
       "    </tr>\n",
       "    <tr>\n",
       "      <th>2</th>\n",
       "      <td>2023</td>\n",
       "      <td>MI</td>\n",
       "      <td>CT</td>\n",
       "      <td>ML Engineer</td>\n",
       "      <td>25500</td>\n",
       "      <td>USD</td>\n",
       "      <td>25500</td>\n",
       "      <td>US</td>\n",
       "      <td>100</td>\n",
       "      <td>US</td>\n",
       "      <td>S</td>\n",
       "    </tr>\n",
       "    <tr>\n",
       "      <th>3</th>\n",
       "      <td>2023</td>\n",
       "      <td>SE</td>\n",
       "      <td>FT</td>\n",
       "      <td>Data Scientist</td>\n",
       "      <td>175000</td>\n",
       "      <td>USD</td>\n",
       "      <td>175000</td>\n",
       "      <td>CA</td>\n",
       "      <td>100</td>\n",
       "      <td>CA</td>\n",
       "      <td>M</td>\n",
       "    </tr>\n",
       "    <tr>\n",
       "      <th>4</th>\n",
       "      <td>2023</td>\n",
       "      <td>SE</td>\n",
       "      <td>FT</td>\n",
       "      <td>Data Scientist</td>\n",
       "      <td>120000</td>\n",
       "      <td>USD</td>\n",
       "      <td>120000</td>\n",
       "      <td>CA</td>\n",
       "      <td>100</td>\n",
       "      <td>CA</td>\n",
       "      <td>M</td>\n",
       "    </tr>\n",
       "  </tbody>\n",
       "</table>\n",
       "</div>"
      ],
      "text/plain": [
       "   work_year experience_level employment_type                 job_title  \\\n",
       "0       2023               SE              FT  Principal Data Scientist   \n",
       "1       2023               MI              CT               ML Engineer   \n",
       "2       2023               MI              CT               ML Engineer   \n",
       "3       2023               SE              FT            Data Scientist   \n",
       "4       2023               SE              FT            Data Scientist   \n",
       "\n",
       "   salary salary_currency  salary_in_usd employee_residence  remote_ratio  \\\n",
       "0   80000             EUR          85847                 ES           100   \n",
       "1   30000             USD          30000                 US           100   \n",
       "2   25500             USD          25500                 US           100   \n",
       "3  175000             USD         175000                 CA           100   \n",
       "4  120000             USD         120000                 CA           100   \n",
       "\n",
       "  company_location company_size  \n",
       "0               ES            L  \n",
       "1               US            S  \n",
       "2               US            S  \n",
       "3               CA            M  \n",
       "4               CA            M  "
      ]
     },
     "execution_count": 2,
     "metadata": {},
     "output_type": "execute_result"
    }
   ],
   "source": [
    "df=pd.read_csv('ds_salaries.csv')\n",
    "df.head()"
   ]
  },
  {
   "cell_type": "code",
   "execution_count": 3,
   "id": "56b81a71",
   "metadata": {
    "execution": {
     "iopub.execute_input": "2023-04-25T23:15:48.361534Z",
     "iopub.status.busy": "2023-04-25T23:15:48.361118Z",
     "iopub.status.idle": "2023-04-25T23:15:48.371447Z",
     "shell.execute_reply": "2023-04-25T23:15:48.370001Z"
    },
    "papermill": {
     "duration": 0.03115,
     "end_time": "2023-04-25T23:15:48.373905",
     "exception": false,
     "start_time": "2023-04-25T23:15:48.342755",
     "status": "completed"
    },
    "tags": []
   },
   "outputs": [],
   "source": [
    "#removing unneccssary columns\n",
    "df.drop(['salary','salary_currency'],axis=1,inplace=True)"
   ]
  },
  {
   "cell_type": "markdown",
   "id": "ac3aa38a",
   "metadata": {
    "papermill": {
     "duration": 0.015614,
     "end_time": "2023-04-25T23:15:48.405447",
     "exception": false,
     "start_time": "2023-04-25T23:15:48.389833",
     "status": "completed"
    },
    "tags": []
   },
   "source": [
    "# Descriptive Analysis"
   ]
  },
  {
   "cell_type": "code",
   "execution_count": 4,
   "id": "b15ea976",
   "metadata": {
    "execution": {
     "iopub.execute_input": "2023-04-25T23:15:48.440581Z",
     "iopub.status.busy": "2023-04-25T23:15:48.439308Z",
     "iopub.status.idle": "2023-04-25T23:15:48.447174Z",
     "shell.execute_reply": "2023-04-25T23:15:48.445974Z"
    },
    "papermill": {
     "duration": 0.028406,
     "end_time": "2023-04-25T23:15:48.449823",
     "exception": false,
     "start_time": "2023-04-25T23:15:48.421417",
     "status": "completed"
    },
    "tags": []
   },
   "outputs": [],
   "source": [
    "def des_anal(dataframe):\n",
    "    print(\"----------------------------Shape----------------------------------\")\n",
    "    print(f'{df.shape}\\n\\n')\n",
    "    print(\"----------------------------Columns----------------------------------\")\n",
    "    print(f'{df.columns}\\n\\n')\n",
    "    print(\"----------------------------Info----------------------------------\")\n",
    "    print(f'{df.info()}\\n\\n')\n",
    "    print(\"----------------------------Descriptive----------------------------------\")\n",
    "    print(f'{df.describe()}\\n\\n')\n",
    "    print(\"----------------------------Null values----------------------------------\")\n",
    "    print(f'{df.isnull().sum()}\\n\\n')\n",
    "    print(\"----------------------------Unique Values----------------------------------\")\n",
    "    print(f'{df.nunique()}\\n\\n')"
   ]
  },
  {
   "cell_type": "code",
   "execution_count": 5,
   "id": "4c463515",
   "metadata": {
    "execution": {
     "iopub.execute_input": "2023-04-25T23:15:48.484011Z",
     "iopub.status.busy": "2023-04-25T23:15:48.483555Z",
     "iopub.status.idle": "2023-04-25T23:15:48.530604Z",
     "shell.execute_reply": "2023-04-25T23:15:48.529067Z"
    },
    "papermill": {
     "duration": 0.067742,
     "end_time": "2023-04-25T23:15:48.533626",
     "exception": false,
     "start_time": "2023-04-25T23:15:48.465884",
     "status": "completed"
    },
    "tags": []
   },
   "outputs": [
    {
     "name": "stdout",
     "output_type": "stream",
     "text": [
      "----------------------------Shape----------------------------------\n",
      "(3755, 9)\n",
      "\n",
      "\n",
      "----------------------------Columns----------------------------------\n",
      "Index(['work_year', 'experience_level', 'employment_type', 'job_title',\n",
      "       'salary_in_usd', 'employee_residence', 'remote_ratio',\n",
      "       'company_location', 'company_size'],\n",
      "      dtype='object')\n",
      "\n",
      "\n",
      "----------------------------Info----------------------------------\n",
      "<class 'pandas.core.frame.DataFrame'>\n",
      "RangeIndex: 3755 entries, 0 to 3754\n",
      "Data columns (total 9 columns):\n",
      " #   Column              Non-Null Count  Dtype \n",
      "---  ------              --------------  ----- \n",
      " 0   work_year           3755 non-null   int64 \n",
      " 1   experience_level    3755 non-null   object\n",
      " 2   employment_type     3755 non-null   object\n",
      " 3   job_title           3755 non-null   object\n",
      " 4   salary_in_usd       3755 non-null   int64 \n",
      " 5   employee_residence  3755 non-null   object\n",
      " 6   remote_ratio        3755 non-null   int64 \n",
      " 7   company_location    3755 non-null   object\n",
      " 8   company_size        3755 non-null   object\n",
      "dtypes: int64(3), object(6)\n",
      "memory usage: 264.1+ KB\n",
      "None\n",
      "\n",
      "\n",
      "----------------------------Descriptive----------------------------------\n",
      "         work_year  salary_in_usd  remote_ratio\n",
      "count  3755.000000    3755.000000   3755.000000\n",
      "mean   2022.373635  137570.389880     46.271638\n",
      "std       0.691448   63055.625278     48.589050\n",
      "min    2020.000000    5132.000000      0.000000\n",
      "25%    2022.000000   95000.000000      0.000000\n",
      "50%    2022.000000  135000.000000      0.000000\n",
      "75%    2023.000000  175000.000000    100.000000\n",
      "max    2023.000000  450000.000000    100.000000\n",
      "\n",
      "\n",
      "----------------------------Null values----------------------------------\n",
      "work_year             0\n",
      "experience_level      0\n",
      "employment_type       0\n",
      "job_title             0\n",
      "salary_in_usd         0\n",
      "employee_residence    0\n",
      "remote_ratio          0\n",
      "company_location      0\n",
      "company_size          0\n",
      "dtype: int64\n",
      "\n",
      "\n",
      "----------------------------Unique Values----------------------------------\n",
      "work_year                4\n",
      "experience_level         4\n",
      "employment_type          4\n",
      "job_title               93\n",
      "salary_in_usd         1035\n",
      "employee_residence      78\n",
      "remote_ratio             3\n",
      "company_location        72\n",
      "company_size             3\n",
      "dtype: int64\n",
      "\n",
      "\n"
     ]
    }
   ],
   "source": [
    "des_anal(df)"
   ]
  },
  {
   "cell_type": "markdown",
   "id": "60a2b358",
   "metadata": {
    "papermill": {
     "duration": 0.016724,
     "end_time": "2023-04-25T23:15:48.567526",
     "exception": false,
     "start_time": "2023-04-25T23:15:48.550802",
     "status": "completed"
    },
    "tags": []
   },
   "source": [
    "# EDA(Exploratory Data Analysis)"
   ]
  },
  {
   "cell_type": "code",
   "execution_count": 6,
   "id": "ce69fe1c",
   "metadata": {
    "execution": {
     "iopub.execute_input": "2023-04-25T23:15:48.602877Z",
     "iopub.status.busy": "2023-04-25T23:15:48.602435Z",
     "iopub.status.idle": "2023-04-25T23:15:48.610544Z",
     "shell.execute_reply": "2023-04-25T23:15:48.609390Z"
    },
    "papermill": {
     "duration": 0.028643,
     "end_time": "2023-04-25T23:15:48.612892",
     "exception": false,
     "start_time": "2023-04-25T23:15:48.584249",
     "status": "completed"
    },
    "tags": []
   },
   "outputs": [
    {
     "data": {
      "text/plain": [
       "array(['SE', 'MI', 'EN', 'EX'], dtype=object)"
      ]
     },
     "execution_count": 6,
     "metadata": {},
     "output_type": "execute_result"
    }
   ],
   "source": [
    "df['experience_level'].unique()"
   ]
  },
  {
   "cell_type": "markdown",
   "id": "1373f01e",
   "metadata": {
    "papermill": {
     "duration": 0.015875,
     "end_time": "2023-04-25T23:15:48.646066",
     "exception": false,
     "start_time": "2023-04-25T23:15:48.630191",
     "status": "completed"
    },
    "tags": []
   },
   "source": [
    "**here there are 4 unique values which are SE(Senior level/expert) , MI(medium level/intermediate) , EN (Entry level) and EX(Executive level)\n",
    "lets rename the values**"
   ]
  },
  {
   "cell_type": "code",
   "execution_count": 7,
   "id": "e07bcfba",
   "metadata": {
    "execution": {
     "iopub.execute_input": "2023-04-25T23:15:48.681955Z",
     "iopub.status.busy": "2023-04-25T23:15:48.680697Z",
     "iopub.status.idle": "2023-04-25T23:15:48.691351Z",
     "shell.execute_reply": "2023-04-25T23:15:48.690391Z"
    },
    "papermill": {
     "duration": 0.031202,
     "end_time": "2023-04-25T23:15:48.694012",
     "exception": false,
     "start_time": "2023-04-25T23:15:48.662810",
     "status": "completed"
    },
    "tags": []
   },
   "outputs": [],
   "source": [
    "df['experience_level']=df['experience_level'].replace('SE','Senior level')\n",
    "df['experience_level']=df['experience_level'].replace('MI','intermediate level')\n",
    "df['experience_level']=df['experience_level'].replace('EN','Entry level')\n",
    "df['experience_level']=df['experience_level'].replace('EX','Executive level')"
   ]
  },
  {
   "cell_type": "code",
   "execution_count": 8,
   "id": "da70d5aa",
   "metadata": {
    "execution": {
     "iopub.execute_input": "2023-04-25T23:15:48.729264Z",
     "iopub.status.busy": "2023-04-25T23:15:48.728489Z",
     "iopub.status.idle": "2023-04-25T23:15:48.736712Z",
     "shell.execute_reply": "2023-04-25T23:15:48.735666Z"
    },
    "papermill": {
     "duration": 0.02877,
     "end_time": "2023-04-25T23:15:48.739115",
     "exception": false,
     "start_time": "2023-04-25T23:15:48.710345",
     "status": "completed"
    },
    "tags": []
   },
   "outputs": [
    {
     "data": {
      "text/plain": [
       "array(['FT', 'CT', 'FL', 'PT'], dtype=object)"
      ]
     },
     "execution_count": 8,
     "metadata": {},
     "output_type": "execute_result"
    }
   ],
   "source": [
    "df['employment_type'].unique()"
   ]
  },
  {
   "cell_type": "markdown",
   "id": "55c95a7b",
   "metadata": {
    "papermill": {
     "duration": 0.016063,
     "end_time": "2023-04-25T23:15:48.771536",
     "exception": false,
     "start_time": "2023-04-25T23:15:48.755473",
     "status": "completed"
    },
    "tags": []
   },
   "source": [
    "**It has 4 unique values which are FT(Full Time) , CT (Contract) ,FL (Freelance) and PT(part time) so lets convert them** "
   ]
  },
  {
   "cell_type": "code",
   "execution_count": 9,
   "id": "1d96c100",
   "metadata": {
    "execution": {
     "iopub.execute_input": "2023-04-25T23:15:48.807025Z",
     "iopub.status.busy": "2023-04-25T23:15:48.806109Z",
     "iopub.status.idle": "2023-04-25T23:15:48.815769Z",
     "shell.execute_reply": "2023-04-25T23:15:48.814730Z"
    },
    "papermill": {
     "duration": 0.030453,
     "end_time": "2023-04-25T23:15:48.818501",
     "exception": false,
     "start_time": "2023-04-25T23:15:48.788048",
     "status": "completed"
    },
    "tags": []
   },
   "outputs": [],
   "source": [
    "df['employment_type']=df['employment_type'].replace('FT','Full Time')\n",
    "df['employment_type']=df['employment_type'].replace('CT','Contract')\n",
    "df['employment_type']=df['employment_type'].replace('FL','Freelance')\n",
    "df['employment_type']=df['employment_type'].replace('PT','Part Time')"
   ]
  },
  {
   "cell_type": "code",
   "execution_count": 10,
   "id": "b16e823f",
   "metadata": {
    "execution": {
     "iopub.execute_input": "2023-04-25T23:15:48.854222Z",
     "iopub.status.busy": "2023-04-25T23:15:48.853027Z",
     "iopub.status.idle": "2023-04-25T23:15:48.864695Z",
     "shell.execute_reply": "2023-04-25T23:15:48.863347Z"
    },
    "papermill": {
     "duration": 0.032654,
     "end_time": "2023-04-25T23:15:48.867380",
     "exception": false,
     "start_time": "2023-04-25T23:15:48.834726",
     "status": "completed"
    },
    "tags": []
   },
   "outputs": [
    {
     "data": {
      "text/plain": [
       "Data Engineer                          1040\n",
       "Data Scientist                          840\n",
       "Data Analyst                            612\n",
       "Machine Learning Engineer               289\n",
       "Analytics Engineer                      103\n",
       "                                       ... \n",
       "Principal Machine Learning Engineer       1\n",
       "Azure Data Engineer                       1\n",
       "Manager Data Management                   1\n",
       "Marketing Data Engineer                   1\n",
       "Finance Data Analyst                      1\n",
       "Name: job_title, Length: 93, dtype: int64"
      ]
     },
     "execution_count": 10,
     "metadata": {},
     "output_type": "execute_result"
    }
   ],
   "source": [
    "jobs=df['job_title'].value_counts()\n",
    "jobs"
   ]
  },
  {
   "cell_type": "markdown",
   "id": "8f2ba19b",
   "metadata": {
    "papermill": {
     "duration": 0.016093,
     "end_time": "2023-04-25T23:15:48.899954",
     "exception": false,
     "start_time": "2023-04-25T23:15:48.883861",
     "status": "completed"
    },
    "tags": []
   },
   "source": [
    "**if we see above the most jobs equipped by professionals are Data Scientist,Data Engineer followed by data analyst and machine learning engineer**"
   ]
  },
  {
   "cell_type": "code",
   "execution_count": 11,
   "id": "d204a9cc",
   "metadata": {
    "execution": {
     "iopub.execute_input": "2023-04-25T23:15:48.935263Z",
     "iopub.status.busy": "2023-04-25T23:15:48.934512Z",
     "iopub.status.idle": "2023-04-25T23:15:48.943252Z",
     "shell.execute_reply": "2023-04-25T23:15:48.942058Z"
    },
    "papermill": {
     "duration": 0.029197,
     "end_time": "2023-04-25T23:15:48.945591",
     "exception": false,
     "start_time": "2023-04-25T23:15:48.916394",
     "status": "completed"
    },
    "tags": []
   },
   "outputs": [
    {
     "data": {
      "text/plain": [
       "Data Engineer                 1040\n",
       "Data Scientist                 840\n",
       "Data Analyst                   612\n",
       "Machine Learning Engineer      289\n",
       "Analytics Engineer             103\n",
       "Data Architect                 101\n",
       "Research Scientist              82\n",
       "Data Science Manager            58\n",
       "Applied Scientist               58\n",
       "Research Engineer               37\n",
       "ML Engineer                     34\n",
       "Data Manager                    29\n",
       "Machine Learning Scientist      26\n",
       "Data Science Consultant         24\n",
       "Data Analytics Manager          22\n",
       "Name: job_title, dtype: int64"
      ]
     },
     "execution_count": 11,
     "metadata": {},
     "output_type": "execute_result"
    }
   ],
   "source": [
    "top10_jobs=jobs[:15]\n",
    "top10_jobs"
   ]
  },
  {
   "cell_type": "code",
   "execution_count": 12,
   "id": "7d095c6c",
   "metadata": {
    "execution": {
     "iopub.execute_input": "2023-04-25T23:15:48.981272Z",
     "iopub.status.busy": "2023-04-25T23:15:48.980450Z",
     "iopub.status.idle": "2023-04-25T23:15:48.987371Z",
     "shell.execute_reply": "2023-04-25T23:15:48.986101Z"
    },
    "papermill": {
     "duration": 0.027996,
     "end_time": "2023-04-25T23:15:48.989913",
     "exception": false,
     "start_time": "2023-04-25T23:15:48.961917",
     "status": "completed"
    },
    "tags": []
   },
   "outputs": [],
   "source": [
    "job_title=['Data Engineer','Data Scientist', 'Data Analyst','ML Engineer', 'Analytics Engineer','Data Architect','Research Scientist', 'DS Manager', 'Applied Scientist','Research Engineer', 'ML Enginer', 'Data Manager','ML Scientist','DS Consultant','DA Manager']\n",
    "counts=np.array(top10_jobs)"
   ]
  },
  {
   "cell_type": "code",
   "execution_count": 13,
   "id": "25b5a6d6",
   "metadata": {
    "execution": {
     "iopub.execute_input": "2023-04-25T23:15:49.028254Z",
     "iopub.status.busy": "2023-04-25T23:15:49.027476Z",
     "iopub.status.idle": "2023-04-25T23:15:49.441527Z",
     "shell.execute_reply": "2023-04-25T23:15:49.440092Z"
    },
    "papermill": {
     "duration": 0.437867,
     "end_time": "2023-04-25T23:15:49.444551",
     "exception": false,
     "start_time": "2023-04-25T23:15:49.006684",
     "status": "completed"
    },
    "tags": []
   },
   "outputs": [
    {
     "data": {
      "image/png": "[encoded data removed]",
      "text/plain": [
       "<Figure size 2500x900 with 1 Axes>"
      ]
     },
     "metadata": {},
     "output_type": "display_data"
    }
   ],
   "source": [
    "plt.figure(figsize=(25,9))\n",
    "sns.barplot(x=job_title,y=counts)\n",
    "plt.show()"
   ]
  },
  {
   "cell_type": "markdown",
   "id": "8b80844f",
   "metadata": {
    "papermill": {
     "duration": 0.016931,
     "end_time": "2023-04-25T23:15:49.479627",
     "exception": false,
     "start_time": "2023-04-25T23:15:49.462696",
     "status": "completed"
    },
    "tags": []
   },
   "source": [
    "# Salaries based on other features"
   ]
  },
  {
   "cell_type": "markdown",
   "id": "798f1496",
   "metadata": {
    "papermill": {
     "duration": 0.016978,
     "end_time": "2023-04-25T23:15:49.513768",
     "exception": false,
     "start_time": "2023-04-25T23:15:49.496790",
     "status": "completed"
    },
    "tags": []
   },
   "source": [
    "### Salary based on job Title"
   ]
  },
  {
   "cell_type": "code",
   "execution_count": 14,
   "id": "45addd1a",
   "metadata": {
    "execution": {
     "iopub.execute_input": "2023-04-25T23:15:49.550392Z",
     "iopub.status.busy": "2023-04-25T23:15:49.549851Z",
     "iopub.status.idle": "2023-04-25T23:15:49.562726Z",
     "shell.execute_reply": "2023-04-25T23:15:49.561495Z"
    },
    "papermill": {
     "duration": 0.034533,
     "end_time": "2023-04-25T23:15:49.565405",
     "exception": false,
     "start_time": "2023-04-25T23:15:49.530872",
     "status": "completed"
    },
    "tags": []
   },
   "outputs": [
    {
     "data": {
      "text/plain": [
       "job_title\n",
       "3D Computer Vision Researcher     21352.250000\n",
       "AI Developer                     136666.090909\n",
       "AI Programmer                     55000.000000\n",
       "AI Scientist                     110120.875000\n",
       "Analytics Engineer               152368.631068\n",
       "                                     ...      \n",
       "Research Engineer                163108.378378\n",
       "Research Scientist               161214.195122\n",
       "Software Data Engineer            62510.000000\n",
       "Staff Data Analyst                15000.000000\n",
       "Staff Data Scientist             105000.000000\n",
       "Name: salary_in_usd, Length: 93, dtype: float64"
      ]
     },
     "execution_count": 14,
     "metadata": {},
     "output_type": "execute_result"
    }
   ],
   "source": [
    "df['salary_in_usd'].groupby(df['job_title']) .mean()"
   ]
  },
  {
   "cell_type": "markdown",
   "id": "b16a2cf1",
   "metadata": {
    "papermill": {
     "duration": 0.017206,
     "end_time": "2023-04-25T23:15:49.600714",
     "exception": false,
     "start_time": "2023-04-25T23:15:49.583508",
     "status": "completed"
    },
    "tags": []
   },
   "source": [
    "**These are the jobs titles with their mean salaries in usd currency**"
   ]
  },
  {
   "cell_type": "markdown",
   "id": "3486df61",
   "metadata": {
    "papermill": {
     "duration": 0.01688,
     "end_time": "2023-04-25T23:15:49.634830",
     "exception": false,
     "start_time": "2023-04-25T23:15:49.617950",
     "status": "completed"
    },
    "tags": []
   },
   "source": [
    "### Salaries based on Experiance level"
   ]
  },
  {
   "cell_type": "code",
   "execution_count": 15,
   "id": "906a5724",
   "metadata": {
    "execution": {
     "iopub.execute_input": "2023-04-25T23:15:49.671673Z",
     "iopub.status.busy": "2023-04-25T23:15:49.671239Z",
     "iopub.status.idle": "2023-04-25T23:15:49.678510Z",
     "shell.execute_reply": "2023-04-25T23:15:49.677477Z"
    },
    "papermill": {
     "duration": 0.028766,
     "end_time": "2023-04-25T23:15:49.681159",
     "exception": false,
     "start_time": "2023-04-25T23:15:49.652393",
     "status": "completed"
    },
    "tags": []
   },
   "outputs": [],
   "source": [
    "exp_wise_salary=np.array(df['salary_in_usd'].groupby(df['experience_level']) .mean())"
   ]
  },
  {
   "cell_type": "code",
   "execution_count": 16,
   "id": "f7464654",
   "metadata": {
    "execution": {
     "iopub.execute_input": "2023-04-25T23:15:49.720167Z",
     "iopub.status.busy": "2023-04-25T23:15:49.718871Z",
     "iopub.status.idle": "2023-04-25T23:15:49.929737Z",
     "shell.execute_reply": "2023-04-25T23:15:49.928347Z"
    },
    "papermill": {
     "duration": 0.233946,
     "end_time": "2023-04-25T23:15:49.932608",
     "exception": false,
     "start_time": "2023-04-25T23:15:49.698662",
     "status": "completed"
    },
    "tags": []
   },
   "outputs": [
    {
     "data": {
      "image/png": "[encoded data removed]",
      "text/plain": [
       "<Figure size 640x480 with 1 Axes>"
      ]
     },
     "metadata": {},
     "output_type": "display_data"
    }
   ],
   "source": [
    "plt.title(\"Average Salaries based on Experience\")\n",
    "plt.xlabel('Experiance level')\n",
    "plt.ylabel('Salary')\n",
    "sns.barplot(x=['Entry level', 'Executive level', 'Senior level', 'Intermediate level'],y=exp_wise_salary)\n",
    "plt.show()"
   ]
  },
  {
   "cell_type": "markdown",
   "id": "97a1dbaf",
   "metadata": {
    "papermill": {
     "duration": 0.018786,
     "end_time": "2023-04-25T23:15:49.969732",
     "exception": false,
     "start_time": "2023-04-25T23:15:49.950946",
     "status": "completed"
    },
    "tags": []
   },
   "source": [
    "**If we see above the of executive level experience in maximum as compared to others**"
   ]
  },
  {
   "cell_type": "markdown",
   "id": "75b54b5c",
   "metadata": {
    "papermill": {
     "duration": 0.018537,
     "end_time": "2023-04-25T23:15:50.006941",
     "exception": false,
     "start_time": "2023-04-25T23:15:49.988404",
     "status": "completed"
    },
    "tags": []
   },
   "source": [
    "### Salaries based on Employment Type"
   ]
  },
  {
   "cell_type": "code",
   "execution_count": 17,
   "id": "5c99ca4f",
   "metadata": {
    "execution": {
     "iopub.execute_input": "2023-04-25T23:15:50.045923Z",
     "iopub.status.busy": "2023-04-25T23:15:50.045481Z",
     "iopub.status.idle": "2023-04-25T23:15:50.055896Z",
     "shell.execute_reply": "2023-04-25T23:15:50.054787Z"
    },
    "papermill": {
     "duration": 0.032646,
     "end_time": "2023-04-25T23:15:50.058263",
     "exception": false,
     "start_time": "2023-04-25T23:15:50.025617",
     "status": "completed"
    },
    "tags": []
   },
   "outputs": [
    {
     "data": {
      "text/plain": [
       "employment_type\n",
       "Contract     113446.900000\n",
       "Freelance     51807.800000\n",
       "Full Time    138314.199570\n",
       "Part Time     39533.705882\n",
       "Name: salary_in_usd, dtype: float64"
      ]
     },
     "execution_count": 17,
     "metadata": {},
     "output_type": "execute_result"
    }
   ],
   "source": [
    "df['salary_in_usd'].groupby(df['employment_type']) .mean()"
   ]
  },
  {
   "cell_type": "code",
   "execution_count": 18,
   "id": "528bb053",
   "metadata": {
    "execution": {
     "iopub.execute_input": "2023-04-25T23:15:50.096588Z",
     "iopub.status.busy": "2023-04-25T23:15:50.095960Z",
     "iopub.status.idle": "2023-04-25T23:15:50.307023Z",
     "shell.execute_reply": "2023-04-25T23:15:50.305366Z"
    },
    "papermill": {
     "duration": 0.23363,
     "end_time": "2023-04-25T23:15:50.309870",
     "exception": false,
     "start_time": "2023-04-25T23:15:50.076240",
     "status": "completed"
    },
    "tags": []
   },
   "outputs": [
    {
     "data": {
      "image/png": "[encoded data removed]",
      "text/plain": [
       "<Figure size 640x480 with 1 Axes>"
      ]
     },
     "metadata": {},
     "output_type": "display_data"
    }
   ],
   "source": [
    "employ_wise_salary=np.array(df['salary_in_usd'].groupby(df['employment_type']) .mean())\n",
    "plt.title(\"Average Salaries based on Employment Type\")\n",
    "plt.xlabel('Employment Type')\n",
    "plt.ylabel('Salary')\n",
    "sns.barplot(x=['Contract', 'Freelance', 'Full Time', 'Part Time'],y=employ_wise_salary)\n",
    "plt.show()"
   ]
  },
  {
   "cell_type": "markdown",
   "id": "8ab74ac2",
   "metadata": {
    "papermill": {
     "duration": 0.018678,
     "end_time": "2023-04-25T23:15:50.348037",
     "exception": false,
     "start_time": "2023-04-25T23:15:50.329359",
     "status": "completed"
    },
    "tags": []
   },
   "source": [
    "**full time employees get more average salaries than other employee type**"
   ]
  },
  {
   "cell_type": "markdown",
   "id": "65eec023",
   "metadata": {
    "papermill": {
     "duration": 0.018333,
     "end_time": "2023-04-25T23:15:50.385178",
     "exception": false,
     "start_time": "2023-04-25T23:15:50.366845",
     "status": "completed"
    },
    "tags": []
   },
   "source": [
    "### Salaries based on Remote ratio"
   ]
  },
  {
   "cell_type": "code",
   "execution_count": 19,
   "id": "faa49b5d",
   "metadata": {
    "execution": {
     "iopub.execute_input": "2023-04-25T23:15:50.424813Z",
     "iopub.status.busy": "2023-04-25T23:15:50.424397Z",
     "iopub.status.idle": "2023-04-25T23:15:50.434490Z",
     "shell.execute_reply": "2023-04-25T23:15:50.433088Z"
    },
    "papermill": {
     "duration": 0.032983,
     "end_time": "2023-04-25T23:15:50.436854",
     "exception": false,
     "start_time": "2023-04-25T23:15:50.403871",
     "status": "completed"
    },
    "tags": []
   },
   "outputs": [
    {
     "data": {
      "text/plain": [
       "remote_ratio\n",
       "0      144316.202288\n",
       "50      78400.687831\n",
       "100    136481.452830\n",
       "Name: salary_in_usd, dtype: float64"
      ]
     },
     "execution_count": 19,
     "metadata": {},
     "output_type": "execute_result"
    }
   ],
   "source": [
    "df['salary_in_usd'].groupby(df['remote_ratio']) .mean()\n"
   ]
  },
  {
   "cell_type": "code",
   "execution_count": 20,
   "id": "0957e1d3",
   "metadata": {
    "execution": {
     "iopub.execute_input": "2023-04-25T23:15:50.477103Z",
     "iopub.status.busy": "2023-04-25T23:15:50.476244Z",
     "iopub.status.idle": "2023-04-25T23:15:50.671340Z",
     "shell.execute_reply": "2023-04-25T23:15:50.669963Z"
    },
    "papermill": {
     "duration": 0.218344,
     "end_time": "2023-04-25T23:15:50.674241",
     "exception": false,
     "start_time": "2023-04-25T23:15:50.455897",
     "status": "completed"
    },
    "tags": []
   },
   "outputs": [
    {
     "data": {
      "image/png": "[encoded data removed]",
      "text/plain": [
       "<Figure size 640x480 with 1 Axes>"
      ]
     },
     "metadata": {},
     "output_type": "display_data"
    }
   ],
   "source": [
    "remote_wise_salary=np.array(df['salary_in_usd'].groupby(df['remote_ratio']) .mean())\n",
    "plt.title(\"Average Salaries based on Remote Ratio\")\n",
    "plt.xlabel('Remote Ratio')\n",
    "plt.ylabel('Salary')\n",
    "sns.barplot(x=['0%', '50%', '100%'],y=remote_wise_salary)\n",
    "plt.show()"
   ]
  },
  {
   "cell_type": "markdown",
   "id": "6420311e",
   "metadata": {
    "papermill": {
     "duration": 0.019576,
     "end_time": "2023-04-25T23:15:50.713448",
     "exception": false,
     "start_time": "2023-04-25T23:15:50.693872",
     "status": "completed"
    },
    "tags": []
   },
   "source": [
    "**0% remote employees get better salaries than other employees**"
   ]
  },
  {
   "cell_type": "markdown",
   "id": "1594076e",
   "metadata": {
    "papermill": {
     "duration": 0.01922,
     "end_time": "2023-04-25T23:15:50.753321",
     "exception": false,
     "start_time": "2023-04-25T23:15:50.734101",
     "status": "completed"
    },
    "tags": []
   },
   "source": [
    "### Salaries based on Company Location"
   ]
  },
  {
   "cell_type": "code",
   "execution_count": 21,
   "id": "e4696b1d",
   "metadata": {
    "execution": {
     "iopub.execute_input": "2023-04-25T23:15:50.795229Z",
     "iopub.status.busy": "2023-04-25T23:15:50.794751Z",
     "iopub.status.idle": "2023-04-25T23:15:50.805645Z",
     "shell.execute_reply": "2023-04-25T23:15:50.804682Z"
    },
    "papermill": {
     "duration": 0.035027,
     "end_time": "2023-04-25T23:15:50.807950",
     "exception": false,
     "start_time": "2023-04-25T23:15:50.772923",
     "status": "completed"
    },
    "tags": []
   },
   "outputs": [
    {
     "data": {
      "text/plain": [
       "company_location\n",
       "AE    100000.000000\n",
       "AL     10000.000000\n",
       "AM     50000.000000\n",
       "AR     25000.000000\n",
       "AS     29351.000000\n",
       "          ...      \n",
       "TH     23064.333333\n",
       "TR     19058.000000\n",
       "UA     57850.000000\n",
       "US    151822.009539\n",
       "VN     12000.000000\n",
       "Name: salary_in_usd, Length: 72, dtype: float64"
      ]
     },
     "execution_count": 21,
     "metadata": {},
     "output_type": "execute_result"
    }
   ],
   "source": [
    "df['salary_in_usd'].groupby(df['company_location']) .mean()"
   ]
  },
  {
   "cell_type": "markdown",
   "id": "c9a2de24",
   "metadata": {
    "papermill": {
     "duration": 0.019532,
     "end_time": "2023-04-25T23:15:50.847384",
     "exception": false,
     "start_time": "2023-04-25T23:15:50.827852",
     "status": "completed"
    },
    "tags": []
   },
   "source": [
    "**Above are the average salaries based on company locations you can explore them** "
   ]
  },
  {
   "cell_type": "markdown",
   "id": "fa09b493",
   "metadata": {
    "papermill": {
     "duration": 0.019942,
     "end_time": "2023-04-25T23:15:50.887630",
     "exception": false,
     "start_time": "2023-04-25T23:15:50.867688",
     "status": "completed"
    },
    "tags": []
   },
   "source": [
    "### Salaries based on Company Size"
   ]
  },
  {
   "cell_type": "code",
   "execution_count": 22,
   "id": "7880a974",
   "metadata": {
    "execution": {
     "iopub.execute_input": "2023-04-25T23:15:50.930837Z",
     "iopub.status.busy": "2023-04-25T23:15:50.930392Z",
     "iopub.status.idle": "2023-04-25T23:15:50.941448Z",
     "shell.execute_reply": "2023-04-25T23:15:50.940144Z"
    },
    "papermill": {
     "duration": 0.035535,
     "end_time": "2023-04-25T23:15:50.943926",
     "exception": false,
     "start_time": "2023-04-25T23:15:50.908391",
     "status": "completed"
    },
    "tags": []
   },
   "outputs": [
    {
     "data": {
      "text/plain": [
       "company_size\n",
       "L    118300.982379\n",
       "M    143130.548367\n",
       "S     78226.682432\n",
       "Name: salary_in_usd, dtype: float64"
      ]
     },
     "execution_count": 22,
     "metadata": {},
     "output_type": "execute_result"
    }
   ],
   "source": [
    "df['salary_in_usd'].groupby(df['company_size']) .mean()"
   ]
  },
  {
   "cell_type": "code",
   "execution_count": 23,
   "id": "9c11f052",
   "metadata": {
    "execution": {
     "iopub.execute_input": "2023-04-25T23:15:50.987376Z",
     "iopub.status.busy": "2023-04-25T23:15:50.986890Z",
     "iopub.status.idle": "2023-04-25T23:15:51.194283Z",
     "shell.execute_reply": "2023-04-25T23:15:51.192901Z"
    },
    "papermill": {
     "duration": 0.233888,
     "end_time": "2023-04-25T23:15:51.198047",
     "exception": false,
     "start_time": "2023-04-25T23:15:50.964159",
     "status": "completed"
    },
    "tags": []
   },
   "outputs": [
    {
     "data": {
      "image/png": "[encoded data removed]",
      "text/plain": [
       "<Figure size 640x480 with 1 Axes>"
      ]
     },
     "metadata": {},
     "output_type": "display_data"
    }
   ],
   "source": [
    "compsize_based_salary=np.array(df['salary_in_usd'].groupby(df['company_size']) .mean())\n",
    "compsize_based_title=['Large', 'Medium', 'Small']\n",
    "plt.title(\"Average Salaries based on Company Size\")\n",
    "plt.xlabel('Company size')\n",
    "plt.ylabel('Salary')\n",
    "sns.barplot(x=compsize_based_title,y=compsize_based_salary)\n",
    "plt.show()"
   ]
  },
  {
   "cell_type": "markdown",
   "id": "aed51f1d",
   "metadata": {
    "papermill": {
     "duration": 0.02088,
     "end_time": "2023-04-25T23:15:51.240266",
     "exception": false,
     "start_time": "2023-04-25T23:15:51.219386",
     "status": "completed"
    },
    "tags": []
   },
   "source": [
    "**A medium sized company offers a better average salary instead of small and large companies**"
   ]
  },
  {
   "cell_type": "markdown",
   "id": "8ecdf080",
   "metadata": {
    "papermill": {
     "duration": 0.019822,
     "end_time": "2023-04-25T23:15:51.280119",
     "exception": false,
     "start_time": "2023-04-25T23:15:51.260297",
     "status": "completed"
    },
    "tags": []
   },
   "source": [
    "### Salaries based on work years"
   ]
  },
  {
   "cell_type": "code",
   "execution_count": 24,
   "id": "c2eaf5ca",
   "metadata": {
    "execution": {
     "iopub.execute_input": "2023-04-25T23:15:51.323844Z",
     "iopub.status.busy": "2023-04-25T23:15:51.323156Z",
     "iopub.status.idle": "2023-04-25T23:15:51.332152Z",
     "shell.execute_reply": "2023-04-25T23:15:51.331089Z"
    },
    "papermill": {
     "duration": 0.034385,
     "end_time": "2023-04-25T23:15:51.334969",
     "exception": false,
     "start_time": "2023-04-25T23:15:51.300584",
     "status": "completed"
    },
    "tags": []
   },
   "outputs": [
    {
     "data": {
      "text/plain": [
       "work_year\n",
       "2020     92302.631579\n",
       "2021     94087.208696\n",
       "2022    133338.620793\n",
       "2023    149045.541176\n",
       "Name: salary_in_usd, dtype: float64"
      ]
     },
     "execution_count": 24,
     "metadata": {},
     "output_type": "execute_result"
    }
   ],
   "source": [
    "df['salary_in_usd'].groupby(df['work_year']) .mean()"
   ]
  },
  {
   "cell_type": "code",
   "execution_count": 25,
   "id": "0c692534",
   "metadata": {
    "execution": {
     "iopub.execute_input": "2023-04-25T23:15:51.379911Z",
     "iopub.status.busy": "2023-04-25T23:15:51.379241Z",
     "iopub.status.idle": "2023-04-25T23:15:51.590080Z",
     "shell.execute_reply": "2023-04-25T23:15:51.588766Z"
    },
    "papermill": {
     "duration": 0.236229,
     "end_time": "2023-04-25T23:15:51.592935",
     "exception": false,
     "start_time": "2023-04-25T23:15:51.356706",
     "status": "completed"
    },
    "tags": []
   },
   "outputs": [
    {
     "data": {
      "image/png": "[encoded data removed]",
      "text/plain": [
       "<Figure size 640x480 with 1 Axes>"
      ]
     },
     "metadata": {},
     "output_type": "display_data"
    }
   ],
   "source": [
    "year_based_salary=np.array(df['salary_in_usd'].groupby(df['work_year']) .mean())\n",
    "plt.title(\"Average Salaries based on Work Year\")\n",
    "plt.xlabel('Work Year')\n",
    "plt.ylabel('Salary')\n",
    "sns.lineplot(x=['2020', '2021', '2022','2023'],y=year_based_salary)\n",
    "plt.show()"
   ]
  },
  {
   "cell_type": "markdown",
   "id": "7bfa17bd",
   "metadata": {
    "papermill": {
     "duration": 0.021161,
     "end_time": "2023-04-25T23:15:51.635206",
     "exception": false,
     "start_time": "2023-04-25T23:15:51.614045",
     "status": "completed"
    },
    "tags": []
   },
   "source": [
    "#### the salaries of data science fields goes on increasing with time as the amount of data generated by community is increasing rapidly"
   ]
  },
  {
   "cell_type": "markdown",
   "id": "d4e37ad0",
   "metadata": {
    "papermill": {
     "duration": 0.020431,
     "end_time": "2023-04-25T23:15:51.676544",
     "exception": false,
     "start_time": "2023-04-25T23:15:51.656113",
     "status": "completed"
    },
    "tags": []
   },
   "source": [
    "# No of Jobs based on other features"
   ]
  },
  {
   "cell_type": "markdown",
   "id": "8b1a9298",
   "metadata": {
    "papermill": {
     "duration": 0.020598,
     "end_time": "2023-04-25T23:15:51.718120",
     "exception": false,
     "start_time": "2023-04-25T23:15:51.697522",
     "status": "completed"
    },
    "tags": []
   },
   "source": [
    "### No of jobs based on Experiance level"
   ]
  },
  {
   "cell_type": "code",
   "execution_count": 26,
   "id": "e5906f92",
   "metadata": {
    "execution": {
     "iopub.execute_input": "2023-04-25T23:15:51.762656Z",
     "iopub.status.busy": "2023-04-25T23:15:51.761921Z",
     "iopub.status.idle": "2023-04-25T23:15:51.771770Z",
     "shell.execute_reply": "2023-04-25T23:15:51.770618Z"
    },
    "papermill": {
     "duration": 0.035317,
     "end_time": "2023-04-25T23:15:51.774422",
     "exception": false,
     "start_time": "2023-04-25T23:15:51.739105",
     "status": "completed"
    },
    "tags": []
   },
   "outputs": [
    {
     "data": {
      "text/plain": [
       "Senior level          2516\n",
       "intermediate level     805\n",
       "Entry level            320\n",
       "Executive level        114\n",
       "Name: experience_level, dtype: int64"
      ]
     },
     "execution_count": 26,
     "metadata": {},
     "output_type": "execute_result"
    }
   ],
   "source": [
    "df['experience_level'].value_counts()"
   ]
  },
  {
   "cell_type": "markdown",
   "id": "ce753f52",
   "metadata": {
    "papermill": {
     "duration": 0.021585,
     "end_time": "2023-04-25T23:15:51.817810",
     "exception": false,
     "start_time": "2023-04-25T23:15:51.796225",
     "status": "completed"
    },
    "tags": []
   },
   "source": [
    "**This shows that senior level/expert have the most numbers of jobs**"
   ]
  },
  {
   "cell_type": "code",
   "execution_count": 27,
   "id": "7a9b3ebc",
   "metadata": {
    "execution": {
     "iopub.execute_input": "2023-04-25T23:15:51.862919Z",
     "iopub.status.busy": "2023-04-25T23:15:51.862442Z",
     "iopub.status.idle": "2023-04-25T23:15:52.114515Z",
     "shell.execute_reply": "2023-04-25T23:15:52.113195Z"
    },
    "papermill": {
     "duration": 0.277974,
     "end_time": "2023-04-25T23:15:52.117100",
     "exception": false,
     "start_time": "2023-04-25T23:15:51.839126",
     "status": "completed"
    },
    "tags": []
   },
   "outputs": [
    {
     "data": {
      "image/png": "[encoded data removed]",
      "text/plain": [
       "<Figure size 640x480 with 1 Axes>"
      ]
     },
     "metadata": {},
     "output_type": "display_data"
    }
   ],
   "source": [
    "plt.title('Chart showing no of active jobs according to Experience Level')\n",
    "df['experience_level'].hist()\n",
    "plt.show()"
   ]
  },
  {
   "cell_type": "markdown",
   "id": "3176c4ca",
   "metadata": {
    "papermill": {
     "duration": 0.021156,
     "end_time": "2023-04-25T23:15:52.159886",
     "exception": false,
     "start_time": "2023-04-25T23:15:52.138730",
     "status": "completed"
    },
    "tags": []
   },
   "source": [
    "**So senior level experience people likely to have more jobs**"
   ]
  },
  {
   "cell_type": "markdown",
   "id": "e7957761",
   "metadata": {
    "papermill": {
     "duration": 0.021108,
     "end_time": "2023-04-25T23:15:52.202477",
     "exception": false,
     "start_time": "2023-04-25T23:15:52.181369",
     "status": "completed"
    },
    "tags": []
   },
   "source": [
    "### No of jobs based on Employment type"
   ]
  },
  {
   "cell_type": "code",
   "execution_count": 28,
   "id": "9fcdd2bb",
   "metadata": {
    "execution": {
     "iopub.execute_input": "2023-04-25T23:15:52.248401Z",
     "iopub.status.busy": "2023-04-25T23:15:52.247120Z",
     "iopub.status.idle": "2023-04-25T23:15:52.257246Z",
     "shell.execute_reply": "2023-04-25T23:15:52.256054Z"
    },
    "papermill": {
     "duration": 0.035547,
     "end_time": "2023-04-25T23:15:52.259569",
     "exception": false,
     "start_time": "2023-04-25T23:15:52.224022",
     "status": "completed"
    },
    "tags": []
   },
   "outputs": [
    {
     "data": {
      "text/plain": [
       "Full Time    3718\n",
       "Part Time      17\n",
       "Contract       10\n",
       "Freelance      10\n",
       "Name: employment_type, dtype: int64"
      ]
     },
     "execution_count": 28,
     "metadata": {},
     "output_type": "execute_result"
    }
   ],
   "source": [
    "df['employment_type'].value_counts()"
   ]
  },
  {
   "cell_type": "code",
   "execution_count": 29,
   "id": "46cfeb2e",
   "metadata": {
    "execution": {
     "iopub.execute_input": "2023-04-25T23:15:52.305610Z",
     "iopub.status.busy": "2023-04-25T23:15:52.304788Z",
     "iopub.status.idle": "2023-04-25T23:15:52.512285Z",
     "shell.execute_reply": "2023-04-25T23:15:52.510847Z"
    },
    "papermill": {
     "duration": 0.233944,
     "end_time": "2023-04-25T23:15:52.515073",
     "exception": false,
     "start_time": "2023-04-25T23:15:52.281129",
     "status": "completed"
    },
    "tags": []
   },
   "outputs": [
    {
     "data": {
      "image/png": "[encoded data removed]",
      "text/plain": [
       "<Figure size 640x480 with 1 Axes>"
      ]
     },
     "metadata": {},
     "output_type": "display_data"
    }
   ],
   "source": [
    "plt.title('Chart showing no of active jobs according to employment type')\n",
    "df['employment_type'].hist()\n",
    "plt.show()"
   ]
  },
  {
   "cell_type": "markdown",
   "id": "62cd3694",
   "metadata": {
    "papermill": {
     "duration": 0.022264,
     "end_time": "2023-04-25T23:15:52.560499",
     "exception": false,
     "start_time": "2023-04-25T23:15:52.538235",
     "status": "completed"
    },
    "tags": []
   },
   "source": [
    "### No of jobs based on Company Size"
   ]
  },
  {
   "cell_type": "code",
   "execution_count": 30,
   "id": "6d9dd114",
   "metadata": {
    "execution": {
     "iopub.execute_input": "2023-04-25T23:15:52.608300Z",
     "iopub.status.busy": "2023-04-25T23:15:52.606901Z",
     "iopub.status.idle": "2023-04-25T23:15:52.616791Z",
     "shell.execute_reply": "2023-04-25T23:15:52.615723Z"
    },
    "papermill": {
     "duration": 0.036268,
     "end_time": "2023-04-25T23:15:52.619242",
     "exception": false,
     "start_time": "2023-04-25T23:15:52.582974",
     "status": "completed"
    },
    "tags": []
   },
   "outputs": [
    {
     "data": {
      "text/plain": [
       "M    3153\n",
       "L     454\n",
       "S     148\n",
       "Name: company_size, dtype: int64"
      ]
     },
     "execution_count": 30,
     "metadata": {},
     "output_type": "execute_result"
    }
   ],
   "source": [
    "df['company_size'].value_counts()"
   ]
  },
  {
   "cell_type": "code",
   "execution_count": 31,
   "id": "c40ee51c",
   "metadata": {
    "execution": {
     "iopub.execute_input": "2023-04-25T23:15:52.666975Z",
     "iopub.status.busy": "2023-04-25T23:15:52.665723Z",
     "iopub.status.idle": "2023-04-25T23:15:52.853801Z",
     "shell.execute_reply": "2023-04-25T23:15:52.852502Z"
    },
    "papermill": {
     "duration": 0.214868,
     "end_time": "2023-04-25T23:15:52.856435",
     "exception": false,
     "start_time": "2023-04-25T23:15:52.641567",
     "status": "completed"
    },
    "tags": []
   },
   "outputs": [
    {
     "data": {
      "image/png": "[encoded data removed]",
      "text/plain": [
       "<Figure size 640x480 with 1 Axes>"
      ]
     },
     "metadata": {},
     "output_type": "display_data"
    }
   ],
   "source": [
    "plt.title('Chart showing no of active jobs according to Company Size')\n",
    "df['company_size'].hist(grid=False)\n",
    "plt.show()"
   ]
  },
  {
   "cell_type": "markdown",
   "id": "2d798500",
   "metadata": {
    "papermill": {
     "duration": 0.02322,
     "end_time": "2023-04-25T23:15:52.903387",
     "exception": false,
     "start_time": "2023-04-25T23:15:52.880167",
     "status": "completed"
    },
    "tags": []
   },
   "source": [
    "### No of jobs based on Company Location"
   ]
  },
  {
   "cell_type": "code",
   "execution_count": 32,
   "id": "8c6181d2",
   "metadata": {
    "execution": {
     "iopub.execute_input": "2023-04-25T23:15:52.952904Z",
     "iopub.status.busy": "2023-04-25T23:15:52.952427Z",
     "iopub.status.idle": "2023-04-25T23:15:52.964382Z",
     "shell.execute_reply": "2023-04-25T23:15:52.963150Z"
    },
    "papermill": {
     "duration": 0.039952,
     "end_time": "2023-04-25T23:15:52.967067",
     "exception": false,
     "start_time": "2023-04-25T23:15:52.927115",
     "status": "completed"
    },
    "tags": []
   },
   "outputs": [
    {
     "data": {
      "text/plain": [
       "US    3040\n",
       "GB     172\n",
       "CA      87\n",
       "ES      77\n",
       "IN      58\n",
       "      ... \n",
       "MK       1\n",
       "BS       1\n",
       "IR       1\n",
       "CR       1\n",
       "MT       1\n",
       "Name: company_location, Length: 72, dtype: int64"
      ]
     },
     "execution_count": 32,
     "metadata": {},
     "output_type": "execute_result"
    }
   ],
   "source": [
    "df['company_location'].value_counts()"
   ]
  },
  {
   "cell_type": "markdown",
   "id": "ddd39fe9",
   "metadata": {
    "papermill": {
     "duration": 0.023403,
     "end_time": "2023-04-25T23:15:53.015092",
     "exception": false,
     "start_time": "2023-04-25T23:15:52.991689",
     "status": "completed"
    },
    "tags": []
   },
   "source": [
    "### No of jobs based on Work Year"
   ]
  },
  {
   "cell_type": "code",
   "execution_count": 33,
   "id": "fdb90174",
   "metadata": {
    "execution": {
     "iopub.execute_input": "2023-04-25T23:15:53.069476Z",
     "iopub.status.busy": "2023-04-25T23:15:53.068967Z",
     "iopub.status.idle": "2023-04-25T23:15:53.078860Z",
     "shell.execute_reply": "2023-04-25T23:15:53.077635Z"
    },
    "papermill": {
     "duration": 0.038329,
     "end_time": "2023-04-25T23:15:53.081510",
     "exception": false,
     "start_time": "2023-04-25T23:15:53.043181",
     "status": "completed"
    },
    "tags": []
   },
   "outputs": [
    {
     "data": {
      "text/plain": [
       "2023    1785\n",
       "2022    1664\n",
       "2021     230\n",
       "2020      76\n",
       "Name: work_year, dtype: int64"
      ]
     },
     "execution_count": 33,
     "metadata": {},
     "output_type": "execute_result"
    }
   ],
   "source": [
    "df['work_year'].value_counts()"
   ]
  },
  {
   "cell_type": "code",
   "execution_count": 34,
   "id": "a2c555dc",
   "metadata": {
    "execution": {
     "iopub.execute_input": "2023-04-25T23:15:53.131635Z",
     "iopub.status.busy": "2023-04-25T23:15:53.131192Z",
     "iopub.status.idle": "2023-04-25T23:15:53.138103Z",
     "shell.execute_reply": "2023-04-25T23:15:53.136747Z"
    },
    "papermill": {
     "duration": 0.035122,
     "end_time": "2023-04-25T23:15:53.140807",
     "exception": false,
     "start_time": "2023-04-25T23:15:53.105685",
     "status": "completed"
    },
    "tags": []
   },
   "outputs": [],
   "source": [
    "work_year_count=list(df['work_year'].value_counts())\n",
    "work_year_count.reverse()"
   ]
  },
  {
   "cell_type": "code",
   "execution_count": 35,
   "id": "2cbe92ef",
   "metadata": {
    "execution": {
     "iopub.execute_input": "2023-04-25T23:15:53.190638Z",
     "iopub.status.busy": "2023-04-25T23:15:53.190178Z",
     "iopub.status.idle": "2023-04-25T23:15:53.403418Z",
     "shell.execute_reply": "2023-04-25T23:15:53.402003Z"
    },
    "papermill": {
     "duration": 0.241652,
     "end_time": "2023-04-25T23:15:53.406208",
     "exception": false,
     "start_time": "2023-04-25T23:15:53.164556",
     "status": "completed"
    },
    "tags": []
   },
   "outputs": [
    {
     "data": {
      "image/png": "[encoded data removed]",
      "text/plain": [
       "<Figure size 640x480 with 1 Axes>"
      ]
     },
     "metadata": {},
     "output_type": "display_data"
    }
   ],
   "source": [
    "plt.title('Chart showing no of active jobs according to Work Year')\n",
    "sns.lineplot(x=['2020', '2021', '2022','2023'],y=work_year_count)\n",
    "plt.show()"
   ]
  },
  {
   "cell_type": "markdown",
   "id": "fa35dbc9",
   "metadata": {
    "papermill": {
     "duration": 0.025191,
     "end_time": "2023-04-25T23:15:53.455911",
     "exception": false,
     "start_time": "2023-04-25T23:15:53.430720",
     "status": "completed"
    },
    "tags": []
   },
   "source": [
    "#### No of jobs related to data science field goes on increasing with time to time"
   ]
  },
  {
   "cell_type": "markdown",
   "id": "92bebe45",
   "metadata": {
    "papermill": {
     "duration": 0.024152,
     "end_time": "2023-04-25T23:15:53.504497",
     "exception": false,
     "start_time": "2023-04-25T23:15:53.480345",
     "status": "completed"
    },
    "tags": []
   },
   "source": [
    "# A new approach"
   ]
  },
  {
   "cell_type": "markdown",
   "id": "29657af2",
   "metadata": {
    "papermill": {
     "duration": 0.024418,
     "end_time": "2023-04-25T23:15:53.553546",
     "exception": false,
     "start_time": "2023-04-25T23:15:53.529128",
     "status": "completed"
    },
    "tags": []
   },
   "source": [
    "**Here we will further explore the data**"
   ]
  },
  {
   "cell_type": "code",
   "execution_count": 36,
   "id": "2f263c6e",
   "metadata": {
    "execution": {
     "iopub.execute_input": "2023-04-25T23:15:53.605096Z",
     "iopub.status.busy": "2023-04-25T23:15:53.604584Z",
     "iopub.status.idle": "2023-04-25T23:15:53.626654Z",
     "shell.execute_reply": "2023-04-25T23:15:53.625327Z"
    },
    "papermill": {
     "duration": 0.051842,
     "end_time": "2023-04-25T23:15:53.629800",
     "exception": false,
     "start_time": "2023-04-25T23:15:53.577958",
     "status": "completed"
    },
    "tags": []
   },
   "outputs": [
    {
     "data": {
      "text/html": [
       "<div>\n",
       "<style scoped>\n",
       "    .dataframe tbody tr th:only-of-type {\n",
       "        vertical-align: middle;\n",
       "    }\n",
       "\n",
       "    .dataframe tbody tr th {\n",
       "        vertical-align: top;\n",
       "    }\n",
       "\n",
       "    .dataframe thead th {\n",
       "        text-align: right;\n",
       "    }\n",
       "</style>\n",
       "<table border=\"1\" class=\"dataframe\">\n",
       "  <thead>\n",
       "    <tr style=\"text-align: right;\">\n",
       "      <th></th>\n",
       "      <th></th>\n",
       "      <th></th>\n",
       "      <th>salary_in_usd</th>\n",
       "      <th>remote_ratio</th>\n",
       "    </tr>\n",
       "    <tr>\n",
       "      <th>experience_level</th>\n",
       "      <th>employment_type</th>\n",
       "      <th>work_year</th>\n",
       "      <th></th>\n",
       "      <th></th>\n",
       "    </tr>\n",
       "  </thead>\n",
       "  <tbody>\n",
       "    <tr>\n",
       "      <th rowspan=\"11\" valign=\"top\">Entry level</th>\n",
       "      <th rowspan=\"2\" valign=\"top\">Contract</th>\n",
       "      <th>2020</th>\n",
       "      <td>100000.000000</td>\n",
       "      <td>100.000000</td>\n",
       "    </tr>\n",
       "    <tr>\n",
       "      <th>2022</th>\n",
       "      <td>30469.000000</td>\n",
       "      <td>100.000000</td>\n",
       "    </tr>\n",
       "    <tr>\n",
       "      <th>Freelance</th>\n",
       "      <th>2022</th>\n",
       "      <td>75000.000000</td>\n",
       "      <td>100.000000</td>\n",
       "    </tr>\n",
       "    <tr>\n",
       "      <th rowspan=\"4\" valign=\"top\">Full Time</th>\n",
       "      <th>2020</th>\n",
       "      <td>59256.600000</td>\n",
       "      <td>67.500000</td>\n",
       "    </tr>\n",
       "    <tr>\n",
       "      <th>2021</th>\n",
       "      <td>58755.060000</td>\n",
       "      <td>69.000000</td>\n",
       "    </tr>\n",
       "    <tr>\n",
       "      <th>2022</th>\n",
       "      <td>77924.678261</td>\n",
       "      <td>59.565217</td>\n",
       "    </tr>\n",
       "    <tr>\n",
       "      <th>2023</th>\n",
       "      <td>95946.401709</td>\n",
       "      <td>38.461538</td>\n",
       "    </tr>\n",
       "    <tr>\n",
       "      <th rowspan=\"4\" valign=\"top\">Part Time</th>\n",
       "      <th>2020</th>\n",
       "      <td>18817.500000</td>\n",
       "      <td>75.000000</td>\n",
       "    </tr>\n",
       "    <tr>\n",
       "      <th>2021</th>\n",
       "      <td>16407.200000</td>\n",
       "      <td>70.000000</td>\n",
       "    </tr>\n",
       "    <tr>\n",
       "      <th>2022</th>\n",
       "      <td>67823.333333</td>\n",
       "      <td>83.333333</td>\n",
       "    </tr>\n",
       "    <tr>\n",
       "      <th>2023</th>\n",
       "      <td>17779.000000</td>\n",
       "      <td>100.000000</td>\n",
       "    </tr>\n",
       "    <tr>\n",
       "      <th rowspan=\"5\" valign=\"top\">Executive level</th>\n",
       "      <th>Contract</th>\n",
       "      <th>2021</th>\n",
       "      <td>416000.000000</td>\n",
       "      <td>100.000000</td>\n",
       "    </tr>\n",
       "    <tr>\n",
       "      <th rowspan=\"4\" valign=\"top\">Full Time</th>\n",
       "      <th>2020</th>\n",
       "      <td>139944.333333</td>\n",
       "      <td>50.000000</td>\n",
       "    </tr>\n",
       "    <tr>\n",
       "      <th>2021</th>\n",
       "      <td>160586.666667</td>\n",
       "      <td>55.555556</td>\n",
       "    </tr>\n",
       "    <tr>\n",
       "      <th>2022</th>\n",
       "      <td>188260.292683</td>\n",
       "      <td>71.951220</td>\n",
       "    </tr>\n",
       "    <tr>\n",
       "      <th>2023</th>\n",
       "      <td>203705.683333</td>\n",
       "      <td>30.000000</td>\n",
       "    </tr>\n",
       "    <tr>\n",
       "      <th rowspan=\"8\" valign=\"top\">Senior level</th>\n",
       "      <th rowspan=\"2\" valign=\"top\">Contract</th>\n",
       "      <th>2021</th>\n",
       "      <td>105000.000000</td>\n",
       "      <td>100.000000</td>\n",
       "    </tr>\n",
       "    <tr>\n",
       "      <th>2022</th>\n",
       "      <td>90000.000000</td>\n",
       "      <td>100.000000</td>\n",
       "    </tr>\n",
       "    <tr>\n",
       "      <th rowspan=\"2\" valign=\"top\">Freelance</th>\n",
       "      <th>2020</th>\n",
       "      <td>60000.000000</td>\n",
       "      <td>100.000000</td>\n",
       "    </tr>\n",
       "    <tr>\n",
       "      <th>2023</th>\n",
       "      <td>50000.000000</td>\n",
       "      <td>50.000000</td>\n",
       "    </tr>\n",
       "    <tr>\n",
       "      <th rowspan=\"4\" valign=\"top\">Full Time</th>\n",
       "      <th>2020</th>\n",
       "      <td>141784.058824</td>\n",
       "      <td>64.705882</td>\n",
       "    </tr>\n",
       "    <tr>\n",
       "      <th>2021</th>\n",
       "      <td>126378.208333</td>\n",
       "      <td>72.222222</td>\n",
       "    </tr>\n",
       "    <tr>\n",
       "      <th>2022</th>\n",
       "      <td>147710.400176</td>\n",
       "      <td>54.749340</td>\n",
       "    </tr>\n",
       "    <tr>\n",
       "      <th>2023</th>\n",
       "      <td>159739.463813</td>\n",
       "      <td>34.591440</td>\n",
       "    </tr>\n",
       "    <tr>\n",
       "      <th rowspan=\"11\" valign=\"top\">intermediate level</th>\n",
       "      <th rowspan=\"3\" valign=\"top\">Contract</th>\n",
       "      <th>2021</th>\n",
       "      <td>270000.000000</td>\n",
       "      <td>100.000000</td>\n",
       "    </tr>\n",
       "    <tr>\n",
       "      <th>2022</th>\n",
       "      <td>33750.000000</td>\n",
       "      <td>75.000000</td>\n",
       "    </tr>\n",
       "    <tr>\n",
       "      <th>2023</th>\n",
       "      <td>27750.000000</td>\n",
       "      <td>100.000000</td>\n",
       "    </tr>\n",
       "    <tr>\n",
       "      <th rowspan=\"2\" valign=\"top\">Freelance</th>\n",
       "      <th>2021</th>\n",
       "      <td>25851.666667</td>\n",
       "      <td>33.333333</td>\n",
       "    </tr>\n",
       "    <tr>\n",
       "      <th>2022</th>\n",
       "      <td>65261.500000</td>\n",
       "      <td>100.000000</td>\n",
       "    </tr>\n",
       "    <tr>\n",
       "      <th rowspan=\"4\" valign=\"top\">Full Time</th>\n",
       "      <th>2020</th>\n",
       "      <td>87564.718750</td>\n",
       "      <td>62.500000</td>\n",
       "    </tr>\n",
       "    <tr>\n",
       "      <th>2021</th>\n",
       "      <td>82930.848837</td>\n",
       "      <td>66.860465</td>\n",
       "    </tr>\n",
       "    <tr>\n",
       "      <th>2022</th>\n",
       "      <td>102024.620787</td>\n",
       "      <td>52.949438</td>\n",
       "    </tr>\n",
       "    <tr>\n",
       "      <th>2023</th>\n",
       "      <td>116854.500000</td>\n",
       "      <td>30.345912</td>\n",
       "    </tr>\n",
       "    <tr>\n",
       "      <th rowspan=\"2\" valign=\"top\">Part Time</th>\n",
       "      <th>2021</th>\n",
       "      <td>37575.000000</td>\n",
       "      <td>75.000000</td>\n",
       "    </tr>\n",
       "    <tr>\n",
       "      <th>2022</th>\n",
       "      <td>52533.000000</td>\n",
       "      <td>50.000000</td>\n",
       "    </tr>\n",
       "  </tbody>\n",
       "</table>\n",
       "</div>"
      ],
      "text/plain": [
       "                                              salary_in_usd  remote_ratio\n",
       "experience_level   employment_type work_year                             \n",
       "Entry level        Contract        2020       100000.000000    100.000000\n",
       "                                   2022        30469.000000    100.000000\n",
       "                   Freelance       2022        75000.000000    100.000000\n",
       "                   Full Time       2020        59256.600000     67.500000\n",
       "                                   2021        58755.060000     69.000000\n",
       "                                   2022        77924.678261     59.565217\n",
       "                                   2023        95946.401709     38.461538\n",
       "                   Part Time       2020        18817.500000     75.000000\n",
       "                                   2021        16407.200000     70.000000\n",
       "                                   2022        67823.333333     83.333333\n",
       "                                   2023        17779.000000    100.000000\n",
       "Executive level    Contract        2021       416000.000000    100.000000\n",
       "                   Full Time       2020       139944.333333     50.000000\n",
       "                                   2021       160586.666667     55.555556\n",
       "                                   2022       188260.292683     71.951220\n",
       "                                   2023       203705.683333     30.000000\n",
       "Senior level       Contract        2021       105000.000000    100.000000\n",
       "                                   2022        90000.000000    100.000000\n",
       "                   Freelance       2020        60000.000000    100.000000\n",
       "                                   2023        50000.000000     50.000000\n",
       "                   Full Time       2020       141784.058824     64.705882\n",
       "                                   2021       126378.208333     72.222222\n",
       "                                   2022       147710.400176     54.749340\n",
       "                                   2023       159739.463813     34.591440\n",
       "intermediate level Contract        2021       270000.000000    100.000000\n",
       "                                   2022        33750.000000     75.000000\n",
       "                                   2023        27750.000000    100.000000\n",
       "                   Freelance       2021        25851.666667     33.333333\n",
       "                                   2022        65261.500000    100.000000\n",
       "                   Full Time       2020        87564.718750     62.500000\n",
       "                                   2021        82930.848837     66.860465\n",
       "                                   2022       102024.620787     52.949438\n",
       "                                   2023       116854.500000     30.345912\n",
       "                   Part Time       2021        37575.000000     75.000000\n",
       "                                   2022        52533.000000     50.000000"
      ]
     },
     "execution_count": 36,
     "metadata": {},
     "output_type": "execute_result"
    }
   ],
   "source": [
    "df.groupby(['experience_level','employment_type','work_year']).mean()"
   ]
  },
  {
   "cell_type": "markdown",
   "id": "acbb053d",
   "metadata": {
    "papermill": {
     "duration": 0.024334,
     "end_time": "2023-04-25T23:15:53.680119",
     "exception": false,
     "start_time": "2023-04-25T23:15:53.655785",
     "status": "completed"
    },
    "tags": []
   },
   "source": [
    "### if you see in the above table we can conclude a few observations:\n",
    "#### For Entry Level:\n",
    "**if a person is at its entry level job and he is working as a full time employee then he will get an average salary of 80496.529801 dollars**\n",
    "\n",
    "**if a person is at its entry level job and he is working as a Part time employee then he will get an average salary of 38885.000000 dollars**\n",
    "\n",
    "**if a person is at its entry level job and he is working as a Freelance employee then he will get an average salary of 75000 dollars**\n",
    "\n",
    "**if a person is at its entry level job and he is working as a Contract employee then he will get an average salary of 65230.529801 dollars**\n",
    "\n",
    "\n",
    "\n",
    "\n",
    "\n",
    "\n"
   ]
  },
  {
   "cell_type": "markdown",
   "id": "3ad16a18",
   "metadata": {
    "papermill": {
     "duration": 0.024884,
     "end_time": "2023-04-25T23:15:53.729855",
     "exception": false,
     "start_time": "2023-04-25T23:15:53.704971",
     "status": "completed"
    },
    "tags": []
   },
   "source": [
    "#### For  Executive Level:\n",
    "**if a person is at its Executive level job and he is working as a Contract employee then he will get an average salary of 416000.529801 dollars**\n",
    "\n",
    "**if a person is at its Executive level job and he is working as a Full time employee then he will get an average salary of 193000.000000 dollars**"
   ]
  },
  {
   "cell_type": "markdown",
   "id": "1dc5c28f",
   "metadata": {
    "papermill": {
     "duration": 0.024862,
     "end_time": "2023-04-25T23:15:53.780521",
     "exception": false,
     "start_time": "2023-04-25T23:15:53.755659",
     "status": "completed"
    },
    "tags": []
   },
   "source": [
    "#### For Senior Level:\n",
    "**if a person is at its Senior level job and he is working as a full time employee then he will get an average salary of 153000.529801 dollars**\n",
    "\n",
    "**if a person is at its Senior level job and he is working as a Freelance employee then he will get an average salary of 53333 dollars**\n",
    "\n",
    "**if a person is at its Senior level job and he is working as a Contract employee then he will get an average salary of 97500.529801 dollars**"
   ]
  },
  {
   "cell_type": "markdown",
   "id": "97ffb7d4",
   "metadata": {
    "papermill": {
     "duration": 0.024294,
     "end_time": "2023-04-25T23:15:53.829678",
     "exception": false,
     "start_time": "2023-04-25T23:15:53.805384",
     "status": "completed"
    },
    "tags": []
   },
   "source": [
    "#### For Intermediate Level:\n",
    "**if a person is at its Intermediate level job and he is working as a full time employee then he will get an average salary of 105321.529801 dollars**\n",
    "\n",
    "**if a person is at its Intermediate level job and he is working as a Part time employee then he will get an average salary of 42561.000000 dollars**\n",
    "\n",
    "**if a person is at its Intermediate level job and he is working as a Freelance employee then he will get an average salary of 41600 dollars**\n",
    "\n",
    "**if a person is at its Intermediate level job and he is working as a Contract employee then he will get an average salary of 78600.529801 dollars**"
   ]
  },
  {
   "cell_type": "markdown",
   "id": "7bf05d28",
   "metadata": {
    "papermill": {
     "duration": 0.024462,
     "end_time": "2023-04-25T23:15:53.878678",
     "exception": false,
     "start_time": "2023-04-25T23:15:53.854216",
     "status": "completed"
    },
    "tags": []
   },
   "source": [
    "### Combining experiance, employment type and company size to check insights about salary"
   ]
  },
  {
   "cell_type": "code",
   "execution_count": 37,
   "id": "a9593db0",
   "metadata": {
    "execution": {
     "iopub.execute_input": "2023-04-25T23:15:53.929743Z",
     "iopub.status.busy": "2023-04-25T23:15:53.929323Z",
     "iopub.status.idle": "2023-04-25T23:15:53.951463Z",
     "shell.execute_reply": "2023-04-25T23:15:53.950125Z"
    },
    "papermill": {
     "duration": 0.051064,
     "end_time": "2023-04-25T23:15:53.954355",
     "exception": false,
     "start_time": "2023-04-25T23:15:53.903291",
     "status": "completed"
    },
    "tags": []
   },
   "outputs": [
    {
     "data": {
      "text/html": [
       "<div>\n",
       "<style scoped>\n",
       "    .dataframe tbody tr th:only-of-type {\n",
       "        vertical-align: middle;\n",
       "    }\n",
       "\n",
       "    .dataframe tbody tr th {\n",
       "        vertical-align: top;\n",
       "    }\n",
       "\n",
       "    .dataframe thead th {\n",
       "        text-align: right;\n",
       "    }\n",
       "</style>\n",
       "<table border=\"1\" class=\"dataframe\">\n",
       "  <thead>\n",
       "    <tr style=\"text-align: right;\">\n",
       "      <th></th>\n",
       "      <th></th>\n",
       "      <th></th>\n",
       "      <th>work_year</th>\n",
       "      <th>salary_in_usd</th>\n",
       "      <th>remote_ratio</th>\n",
       "    </tr>\n",
       "    <tr>\n",
       "      <th>experience_level</th>\n",
       "      <th>employment_type</th>\n",
       "      <th>company_size</th>\n",
       "      <th></th>\n",
       "      <th></th>\n",
       "      <th></th>\n",
       "    </tr>\n",
       "  </thead>\n",
       "  <tbody>\n",
       "    <tr>\n",
       "      <th rowspan=\"10\" valign=\"top\">Entry level</th>\n",
       "      <th rowspan=\"2\" valign=\"top\">Contract</th>\n",
       "      <th>L</th>\n",
       "      <td>2020.000000</td>\n",
       "      <td>100000.000000</td>\n",
       "      <td>100.000000</td>\n",
       "    </tr>\n",
       "    <tr>\n",
       "      <th>M</th>\n",
       "      <td>2022.000000</td>\n",
       "      <td>30469.000000</td>\n",
       "      <td>100.000000</td>\n",
       "    </tr>\n",
       "    <tr>\n",
       "      <th rowspan=\"2\" valign=\"top\">Freelance</th>\n",
       "      <th>M</th>\n",
       "      <td>2022.000000</td>\n",
       "      <td>100000.000000</td>\n",
       "      <td>100.000000</td>\n",
       "    </tr>\n",
       "    <tr>\n",
       "      <th>S</th>\n",
       "      <td>2022.000000</td>\n",
       "      <td>50000.000000</td>\n",
       "      <td>100.000000</td>\n",
       "    </tr>\n",
       "    <tr>\n",
       "      <th rowspan=\"3\" valign=\"top\">Full Time</th>\n",
       "      <th>L</th>\n",
       "      <td>2021.863158</td>\n",
       "      <td>74901.189474</td>\n",
       "      <td>65.789474</td>\n",
       "    </tr>\n",
       "    <tr>\n",
       "      <th>M</th>\n",
       "      <td>2022.400000</td>\n",
       "      <td>88396.309091</td>\n",
       "      <td>41.818182</td>\n",
       "    </tr>\n",
       "    <tr>\n",
       "      <th>S</th>\n",
       "      <td>2021.380952</td>\n",
       "      <td>62117.809524</td>\n",
       "      <td>71.428571</td>\n",
       "    </tr>\n",
       "    <tr>\n",
       "      <th rowspan=\"3\" valign=\"top\">Part Time</th>\n",
       "      <th>L</th>\n",
       "      <td>2022.000000</td>\n",
       "      <td>18517.000000</td>\n",
       "      <td>87.500000</td>\n",
       "    </tr>\n",
       "    <tr>\n",
       "      <th>M</th>\n",
       "      <td>2021.500000</td>\n",
       "      <td>58088.500000</td>\n",
       "      <td>75.000000</td>\n",
       "    </tr>\n",
       "    <tr>\n",
       "      <th>S</th>\n",
       "      <td>2021.000000</td>\n",
       "      <td>39661.333333</td>\n",
       "      <td>75.000000</td>\n",
       "    </tr>\n",
       "    <tr>\n",
       "      <th rowspan=\"4\" valign=\"top\">Executive level</th>\n",
       "      <th>Contract</th>\n",
       "      <th>S</th>\n",
       "      <td>2021.000000</td>\n",
       "      <td>416000.000000</td>\n",
       "      <td>100.000000</td>\n",
       "    </tr>\n",
       "    <tr>\n",
       "      <th rowspan=\"3\" valign=\"top\">Full Time</th>\n",
       "      <th>L</th>\n",
       "      <td>2021.230769</td>\n",
       "      <td>165363.153846</td>\n",
       "      <td>50.000000</td>\n",
       "    </tr>\n",
       "    <tr>\n",
       "      <th>M</th>\n",
       "      <td>2022.589474</td>\n",
       "      <td>198857.284211</td>\n",
       "      <td>44.736842</td>\n",
       "    </tr>\n",
       "    <tr>\n",
       "      <th>S</th>\n",
       "      <td>2021.800000</td>\n",
       "      <td>152992.600000</td>\n",
       "      <td>100.000000</td>\n",
       "    </tr>\n",
       "    <tr>\n",
       "      <th rowspan=\"6\" valign=\"top\">Senior level</th>\n",
       "      <th>Contract</th>\n",
       "      <th>M</th>\n",
       "      <td>2021.500000</td>\n",
       "      <td>97500.000000</td>\n",
       "      <td>100.000000</td>\n",
       "    </tr>\n",
       "    <tr>\n",
       "      <th rowspan=\"2\" valign=\"top\">Freelance</th>\n",
       "      <th>M</th>\n",
       "      <td>2023.000000</td>\n",
       "      <td>50000.000000</td>\n",
       "      <td>50.000000</td>\n",
       "    </tr>\n",
       "    <tr>\n",
       "      <th>S</th>\n",
       "      <td>2021.500000</td>\n",
       "      <td>55000.000000</td>\n",
       "      <td>75.000000</td>\n",
       "    </tr>\n",
       "    <tr>\n",
       "      <th rowspan=\"3\" valign=\"top\">Full Time</th>\n",
       "      <th>L</th>\n",
       "      <td>2021.961353</td>\n",
       "      <td>156159.690821</td>\n",
       "      <td>52.173913</td>\n",
       "    </tr>\n",
       "    <tr>\n",
       "      <th>M</th>\n",
       "      <td>2022.533363</td>\n",
       "      <td>153738.751657</td>\n",
       "      <td>43.769333</td>\n",
       "    </tr>\n",
       "    <tr>\n",
       "      <th>S</th>\n",
       "      <td>2021.512195</td>\n",
       "      <td>109405.975610</td>\n",
       "      <td>76.829268</td>\n",
       "    </tr>\n",
       "    <tr>\n",
       "      <th rowspan=\"11\" valign=\"top\">intermediate level</th>\n",
       "      <th rowspan=\"3\" valign=\"top\">Contract</th>\n",
       "      <th>L</th>\n",
       "      <td>2021.000000</td>\n",
       "      <td>270000.000000</td>\n",
       "      <td>100.000000</td>\n",
       "    </tr>\n",
       "    <tr>\n",
       "      <th>M</th>\n",
       "      <td>2022.000000</td>\n",
       "      <td>7500.000000</td>\n",
       "      <td>50.000000</td>\n",
       "    </tr>\n",
       "    <tr>\n",
       "      <th>S</th>\n",
       "      <td>2022.666667</td>\n",
       "      <td>38500.000000</td>\n",
       "      <td>100.000000</td>\n",
       "    </tr>\n",
       "    <tr>\n",
       "      <th rowspan=\"3\" valign=\"top\">Freelance</th>\n",
       "      <th>L</th>\n",
       "      <td>2021.000000</td>\n",
       "      <td>20000.000000</td>\n",
       "      <td>0.000000</td>\n",
       "    </tr>\n",
       "    <tr>\n",
       "      <th>M</th>\n",
       "      <td>2021.333333</td>\n",
       "      <td>52518.333333</td>\n",
       "      <td>66.666667</td>\n",
       "    </tr>\n",
       "    <tr>\n",
       "      <th>S</th>\n",
       "      <td>2022.000000</td>\n",
       "      <td>30523.000000</td>\n",
       "      <td>100.000000</td>\n",
       "    </tr>\n",
       "    <tr>\n",
       "      <th rowspan=\"3\" valign=\"top\">Full Time</th>\n",
       "      <th>L</th>\n",
       "      <td>2021.492308</td>\n",
       "      <td>88707.030769</td>\n",
       "      <td>70.000000</td>\n",
       "    </tr>\n",
       "    <tr>\n",
       "      <th>M</th>\n",
       "      <td>2022.415584</td>\n",
       "      <td>112215.428571</td>\n",
       "      <td>39.448052</td>\n",
       "    </tr>\n",
       "    <tr>\n",
       "      <th>S</th>\n",
       "      <td>2021.521739</td>\n",
       "      <td>59956.565217</td>\n",
       "      <td>61.956522</td>\n",
       "    </tr>\n",
       "    <tr>\n",
       "      <th rowspan=\"2\" valign=\"top\">Part Time</th>\n",
       "      <th>L</th>\n",
       "      <td>2021.500000</td>\n",
       "      <td>61137.000000</td>\n",
       "      <td>75.000000</td>\n",
       "    </tr>\n",
       "    <tr>\n",
       "      <th>M</th>\n",
       "      <td>2021.000000</td>\n",
       "      <td>5409.000000</td>\n",
       "      <td>50.000000</td>\n",
       "    </tr>\n",
       "  </tbody>\n",
       "</table>\n",
       "</div>"
      ],
      "text/plain": [
       "                                                   work_year  salary_in_usd  \\\n",
       "experience_level   employment_type company_size                               \n",
       "Entry level        Contract        L             2020.000000  100000.000000   \n",
       "                                   M             2022.000000   30469.000000   \n",
       "                   Freelance       M             2022.000000  100000.000000   \n",
       "                                   S             2022.000000   50000.000000   \n",
       "                   Full Time       L             2021.863158   74901.189474   \n",
       "                                   M             2022.400000   88396.309091   \n",
       "                                   S             2021.380952   62117.809524   \n",
       "                   Part Time       L             2022.000000   18517.000000   \n",
       "                                   M             2021.500000   58088.500000   \n",
       "                                   S             2021.000000   39661.333333   \n",
       "Executive level    Contract        S             2021.000000  416000.000000   \n",
       "                   Full Time       L             2021.230769  165363.153846   \n",
       "                                   M             2022.589474  198857.284211   \n",
       "                                   S             2021.800000  152992.600000   \n",
       "Senior level       Contract        M             2021.500000   97500.000000   \n",
       "                   Freelance       M             2023.000000   50000.000000   \n",
       "                                   S             2021.500000   55000.000000   \n",
       "                   Full Time       L             2021.961353  156159.690821   \n",
       "                                   M             2022.533363  153738.751657   \n",
       "                                   S             2021.512195  109405.975610   \n",
       "intermediate level Contract        L             2021.000000  270000.000000   \n",
       "                                   M             2022.000000    7500.000000   \n",
       "                                   S             2022.666667   38500.000000   \n",
       "                   Freelance       L             2021.000000   20000.000000   \n",
       "                                   M             2021.333333   52518.333333   \n",
       "                                   S             2022.000000   30523.000000   \n",
       "                   Full Time       L             2021.492308   88707.030769   \n",
       "                                   M             2022.415584  112215.428571   \n",
       "                                   S             2021.521739   59956.565217   \n",
       "                   Part Time       L             2021.500000   61137.000000   \n",
       "                                   M             2021.000000    5409.000000   \n",
       "\n",
       "                                                 remote_ratio  \n",
       "experience_level   employment_type company_size                \n",
       "Entry level        Contract        L               100.000000  \n",
       "                                   M               100.000000  \n",
       "                   Freelance       M               100.000000  \n",
       "                                   S               100.000000  \n",
       "                   Full Time       L                65.789474  \n",
       "                                   M                41.818182  \n",
       "                                   S                71.428571  \n",
       "                   Part Time       L                87.500000  \n",
       "                                   M                75.000000  \n",
       "                                   S                75.000000  \n",
       "Executive level    Contract        S               100.000000  \n",
       "                   Full Time       L                50.000000  \n",
       "                                   M                44.736842  \n",
       "                                   S               100.000000  \n",
       "Senior level       Contract        M               100.000000  \n",
       "                   Freelance       M                50.000000  \n",
       "                                   S                75.000000  \n",
       "                   Full Time       L                52.173913  \n",
       "                                   M                43.769333  \n",
       "                                   S                76.829268  \n",
       "intermediate level Contract        L               100.000000  \n",
       "                                   M                50.000000  \n",
       "                                   S               100.000000  \n",
       "                   Freelance       L                 0.000000  \n",
       "                                   M                66.666667  \n",
       "                                   S               100.000000  \n",
       "                   Full Time       L                70.000000  \n",
       "                                   M                39.448052  \n",
       "                                   S                61.956522  \n",
       "                   Part Time       L                75.000000  \n",
       "                                   M                50.000000  "
      ]
     },
     "execution_count": 37,
     "metadata": {},
     "output_type": "execute_result"
    }
   ],
   "source": [
    "df.groupby(['experience_level','employment_type','company_size']).mean()"
   ]
  },
  {
   "cell_type": "markdown",
   "id": "214ca376",
   "metadata": {
    "papermill": {
     "duration": 0.027358,
     "end_time": "2023-04-25T23:15:54.007797",
     "exception": false,
     "start_time": "2023-04-25T23:15:53.980439",
     "status": "completed"
    },
    "tags": []
   },
   "source": [
    "### Salaries according to experience level and location of company"
   ]
  },
  {
   "cell_type": "code",
   "execution_count": 38,
   "id": "2aeb634e",
   "metadata": {
    "execution": {
     "iopub.execute_input": "2023-04-25T23:15:54.065877Z",
     "iopub.status.busy": "2023-04-25T23:15:54.064874Z",
     "iopub.status.idle": "2023-04-25T23:15:54.097349Z",
     "shell.execute_reply": "2023-04-25T23:15:54.095007Z"
    },
    "papermill": {
     "duration": 0.065885,
     "end_time": "2023-04-25T23:15:54.100432",
     "exception": false,
     "start_time": "2023-04-25T23:15:54.034547",
     "status": "completed"
    },
    "tags": []
   },
   "outputs": [
    {
     "data": {
      "text/html": [
       "<div>\n",
       "<style scoped>\n",
       "    .dataframe tbody tr th:only-of-type {\n",
       "        vertical-align: middle;\n",
       "    }\n",
       "\n",
       "    .dataframe tbody tr th {\n",
       "        vertical-align: top;\n",
       "    }\n",
       "\n",
       "    .dataframe thead th {\n",
       "        text-align: right;\n",
       "    }\n",
       "</style>\n",
       "<table border=\"1\" class=\"dataframe\">\n",
       "  <thead>\n",
       "    <tr style=\"text-align: right;\">\n",
       "      <th></th>\n",
       "      <th></th>\n",
       "      <th>work_year</th>\n",
       "      <th>salary_in_usd</th>\n",
       "      <th>remote_ratio</th>\n",
       "    </tr>\n",
       "    <tr>\n",
       "      <th>experience_level</th>\n",
       "      <th>company_location</th>\n",
       "      <th></th>\n",
       "      <th></th>\n",
       "      <th></th>\n",
       "    </tr>\n",
       "  </thead>\n",
       "  <tbody>\n",
       "    <tr>\n",
       "      <th rowspan=\"5\" valign=\"top\">Entry level</th>\n",
       "      <th>AR</th>\n",
       "      <td>2022.000000</td>\n",
       "      <td>25000.000000</td>\n",
       "      <td>100.000000</td>\n",
       "    </tr>\n",
       "    <tr>\n",
       "      <th>AS</th>\n",
       "      <td>2021.333333</td>\n",
       "      <td>29351.000000</td>\n",
       "      <td>66.666667</td>\n",
       "    </tr>\n",
       "    <tr>\n",
       "      <th>AT</th>\n",
       "      <td>2022.000000</td>\n",
       "      <td>50000.000000</td>\n",
       "      <td>50.000000</td>\n",
       "    </tr>\n",
       "    <tr>\n",
       "      <th>AU</th>\n",
       "      <td>2022.000000</td>\n",
       "      <td>70866.500000</td>\n",
       "      <td>66.666667</td>\n",
       "    </tr>\n",
       "    <tr>\n",
       "      <th>BA</th>\n",
       "      <td>2023.000000</td>\n",
       "      <td>120000.000000</td>\n",
       "      <td>50.000000</td>\n",
       "    </tr>\n",
       "    <tr>\n",
       "      <th>...</th>\n",
       "      <th>...</th>\n",
       "      <td>...</td>\n",
       "      <td>...</td>\n",
       "      <td>...</td>\n",
       "    </tr>\n",
       "    <tr>\n",
       "      <th rowspan=\"5\" valign=\"top\">intermediate level</th>\n",
       "      <th>SG</th>\n",
       "      <td>2022.250000</td>\n",
       "      <td>61770.000000</td>\n",
       "      <td>62.500000</td>\n",
       "    </tr>\n",
       "    <tr>\n",
       "      <th>SI</th>\n",
       "      <td>2022.333333</td>\n",
       "      <td>49409.333333</td>\n",
       "      <td>83.333333</td>\n",
       "    </tr>\n",
       "    <tr>\n",
       "      <th>TH</th>\n",
       "      <td>2023.000000</td>\n",
       "      <td>24740.000000</td>\n",
       "      <td>50.000000</td>\n",
       "    </tr>\n",
       "    <tr>\n",
       "      <th>TR</th>\n",
       "      <td>2021.500000</td>\n",
       "      <td>18779.750000</td>\n",
       "      <td>37.500000</td>\n",
       "    </tr>\n",
       "    <tr>\n",
       "      <th>US</th>\n",
       "      <td>2022.331992</td>\n",
       "      <td>127822.539235</td>\n",
       "      <td>40.744467</td>\n",
       "    </tr>\n",
       "  </tbody>\n",
       "</table>\n",
       "<p>138 rows × 3 columns</p>\n",
       "</div>"
      ],
      "text/plain": [
       "                                       work_year  salary_in_usd  remote_ratio\n",
       "experience_level   company_location                                          \n",
       "Entry level        AR                2022.000000   25000.000000    100.000000\n",
       "                   AS                2021.333333   29351.000000     66.666667\n",
       "                   AT                2022.000000   50000.000000     50.000000\n",
       "                   AU                2022.000000   70866.500000     66.666667\n",
       "                   BA                2023.000000  120000.000000     50.000000\n",
       "...                                          ...            ...           ...\n",
       "intermediate level SG                2022.250000   61770.000000     62.500000\n",
       "                   SI                2022.333333   49409.333333     83.333333\n",
       "                   TH                2023.000000   24740.000000     50.000000\n",
       "                   TR                2021.500000   18779.750000     37.500000\n",
       "                   US                2022.331992  127822.539235     40.744467\n",
       "\n",
       "[138 rows x 3 columns]"
      ]
     },
     "execution_count": 38,
     "metadata": {},
     "output_type": "execute_result"
    }
   ],
   "source": [
    "df.groupby(['experience_level','company_location']).mean()"
   ]
  },
  {
   "cell_type": "markdown",
   "id": "e2750347",
   "metadata": {
    "papermill": {
     "duration": 0.026896,
     "end_time": "2023-04-25T23:15:54.159150",
     "exception": false,
     "start_time": "2023-04-25T23:15:54.132254",
     "status": "completed"
    },
    "tags": []
   },
   "source": [
    "**it will give all insights about salaries in different regions**"
   ]
  },
  {
   "cell_type": "code",
   "execution_count": 39,
   "id": "62decf8d",
   "metadata": {
    "execution": {
     "iopub.execute_input": "2023-04-25T23:15:54.213851Z",
     "iopub.status.busy": "2023-04-25T23:15:54.213089Z",
     "iopub.status.idle": "2023-04-25T23:15:54.484521Z",
     "shell.execute_reply": "2023-04-25T23:15:54.483192Z"
    },
    "papermill": {
     "duration": 0.302745,
     "end_time": "2023-04-25T23:15:54.487509",
     "exception": false,
     "start_time": "2023-04-25T23:15:54.184764",
     "status": "completed"
    },
    "tags": []
   },
   "outputs": [
    {
     "data": {
      "image/png": "[encoded data removed]",
      "text/plain": [
       "<Figure size 640x480 with 2 Axes>"
      ]
     },
     "metadata": {},
     "output_type": "display_data"
    }
   ],
   "source": [
    "plt.title(\"Confusion Matrix\")\n",
    "sns.heatmap(df.corr(),annot=True)\n",
    "plt.show()"
   ]
  },
  {
   "cell_type": "markdown",
   "id": "968b9396",
   "metadata": {
    "papermill": {
     "duration": 0.025824,
     "end_time": "2023-04-25T23:15:54.541405",
     "exception": false,
     "start_time": "2023-04-25T23:15:54.515581",
     "status": "completed"
    },
    "tags": []
   },
   "source": [
    "#####  This Confusion Matrix shows that as year passes the salaries are increasing 🤩🤩"
   ]
  },
  {
   "cell_type": "markdown",
   "id": "8cd3e8bb",
   "metadata": {
    "papermill": {
     "duration": 0.026736,
     "end_time": "2023-04-25T23:15:54.595243",
     "exception": false,
     "start_time": "2023-04-25T23:15:54.568507",
     "status": "completed"
    },
    "tags": []
   },
   "source": [
    "#### If you like this notebook then give it an upvote"
   ]
  }
 ],
 "metadata": {
  "kernelspec": {
   "display_name": "Python 3",
   "language": "python",
   "name": "python3"
  },
  "language_info": {
   "codemirror_mode": {
    "name": "ipython",
    "version": 3
   },
   "file_extension": ".py",
   "mimetype": "text/x-python",
   "name": "python",
   "nbconvert_exporter": "python",
   "pygments_lexer": "ipython3",
   "version": "3.7.12"
  },
  "papermill": {
   "default_parameters": {},
   "duration": 20.798339,
   "end_time": "2023-04-25T23:15:55.445698",
   "environment_variables": {},
   "exception": null,
   "input_path": "__notebook__.ipynb",
   "output_path": "__notebook__.ipynb",
   "parameters": {},
   "start_time": "2023-04-25T23:15:34.647359",
   "version": "2.4.0"
  }
 },
 "nbformat": 4,
 "nbformat_minor": 5
}
